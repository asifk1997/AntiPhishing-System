{
 "cells": [
  {
   "cell_type": "code",
   "execution_count": 29,
   "metadata": {},
   "outputs": [],
   "source": [
    "import pandas as pd\n",
    "import numpy as np\n",
    "import numpy as np\n",
    "from sklearn.model_selection import train_test_split\n",
    "import seaborn as sns\n",
    "import matplotlib.pyplot as plt\n",
    "import os\n",
    "import time\n",
    "import pickle"
   ]
  },
  {
   "cell_type": "code",
   "execution_count": 2,
   "metadata": {},
   "outputs": [],
   "source": [
    "df = pd.read_csv(\"phishwebsites.csv\")"
   ]
  },
  {
   "cell_type": "code",
   "execution_count": 3,
   "metadata": {},
   "outputs": [
    {
     "data": {
      "text/html": [
       "<div>\n",
       "<style scoped>\n",
       "    .dataframe tbody tr th:only-of-type {\n",
       "        vertical-align: middle;\n",
       "    }\n",
       "\n",
       "    .dataframe tbody tr th {\n",
       "        vertical-align: top;\n",
       "    }\n",
       "\n",
       "    .dataframe thead th {\n",
       "        text-align: right;\n",
       "    }\n",
       "</style>\n",
       "<table border=\"1\" class=\"dataframe\">\n",
       "  <thead>\n",
       "    <tr style=\"text-align: right;\">\n",
       "      <th></th>\n",
       "      <th>Unnamed: 0</th>\n",
       "      <th>index</th>\n",
       "      <th>url</th>\n",
       "      <th>@_symbol</th>\n",
       "      <th>ip_as_url</th>\n",
       "      <th>hexadecimal_character</th>\n",
       "      <th>url_length</th>\n",
       "      <th>multiple_//</th>\n",
       "      <th>domain_name_check</th>\n",
       "      <th>domain_name_in_path</th>\n",
       "      <th>server_form_check</th>\n",
       "      <th>abnormal_url_shortening</th>\n",
       "      <th>downloadable_malicious_code</th>\n",
       "      <th>abnormal_cookie_domain</th>\n",
       "      <th>age_of_domain</th>\n",
       "      <th>ssl_certificate</th>\n",
       "      <th>port_behaviour</th>\n",
       "      <th>blacklist_domain</th>\n",
       "      <th>is_phish</th>\n",
       "    </tr>\n",
       "  </thead>\n",
       "  <tbody>\n",
       "    <tr>\n",
       "      <th>0</th>\n",
       "      <td>0</td>\n",
       "      <td>0</td>\n",
       "      <td>google.com</td>\n",
       "      <td>0</td>\n",
       "      <td>0</td>\n",
       "      <td>0</td>\n",
       "      <td>0</td>\n",
       "      <td>0</td>\n",
       "      <td>0</td>\n",
       "      <td>0</td>\n",
       "      <td>0</td>\n",
       "      <td>0</td>\n",
       "      <td>0</td>\n",
       "      <td>0</td>\n",
       "      <td>0</td>\n",
       "      <td>0</td>\n",
       "      <td>0</td>\n",
       "      <td>0</td>\n",
       "      <td>0</td>\n",
       "    </tr>\n",
       "    <tr>\n",
       "      <th>1</th>\n",
       "      <td>1</td>\n",
       "      <td>1</td>\n",
       "      <td>microsoft.com</td>\n",
       "      <td>0</td>\n",
       "      <td>0</td>\n",
       "      <td>0</td>\n",
       "      <td>0</td>\n",
       "      <td>0</td>\n",
       "      <td>0</td>\n",
       "      <td>0</td>\n",
       "      <td>0</td>\n",
       "      <td>0</td>\n",
       "      <td>0</td>\n",
       "      <td>0</td>\n",
       "      <td>0</td>\n",
       "      <td>0</td>\n",
       "      <td>0</td>\n",
       "      <td>0</td>\n",
       "      <td>0</td>\n",
       "    </tr>\n",
       "    <tr>\n",
       "      <th>2</th>\n",
       "      <td>2</td>\n",
       "      <td>2</td>\n",
       "      <td>www.google.com</td>\n",
       "      <td>0</td>\n",
       "      <td>0</td>\n",
       "      <td>0</td>\n",
       "      <td>0</td>\n",
       "      <td>0</td>\n",
       "      <td>0</td>\n",
       "      <td>0</td>\n",
       "      <td>0</td>\n",
       "      <td>0</td>\n",
       "      <td>0</td>\n",
       "      <td>0</td>\n",
       "      <td>0</td>\n",
       "      <td>0</td>\n",
       "      <td>0</td>\n",
       "      <td>0</td>\n",
       "      <td>0</td>\n",
       "    </tr>\n",
       "    <tr>\n",
       "      <th>3</th>\n",
       "      <td>3</td>\n",
       "      <td>3</td>\n",
       "      <td>data.microsoft.com</td>\n",
       "      <td>0</td>\n",
       "      <td>0</td>\n",
       "      <td>0</td>\n",
       "      <td>0</td>\n",
       "      <td>0</td>\n",
       "      <td>0</td>\n",
       "      <td>0</td>\n",
       "      <td>0</td>\n",
       "      <td>0</td>\n",
       "      <td>0</td>\n",
       "      <td>0</td>\n",
       "      <td>0</td>\n",
       "      <td>0</td>\n",
       "      <td>0</td>\n",
       "      <td>0</td>\n",
       "      <td>0</td>\n",
       "    </tr>\n",
       "    <tr>\n",
       "      <th>4</th>\n",
       "      <td>4</td>\n",
       "      <td>4</td>\n",
       "      <td>windowsupdate.com</td>\n",
       "      <td>0</td>\n",
       "      <td>0</td>\n",
       "      <td>0</td>\n",
       "      <td>0</td>\n",
       "      <td>0</td>\n",
       "      <td>0</td>\n",
       "      <td>0</td>\n",
       "      <td>0</td>\n",
       "      <td>0</td>\n",
       "      <td>0</td>\n",
       "      <td>0</td>\n",
       "      <td>0</td>\n",
       "      <td>0</td>\n",
       "      <td>0</td>\n",
       "      <td>0</td>\n",
       "      <td>0</td>\n",
       "    </tr>\n",
       "  </tbody>\n",
       "</table>\n",
       "</div>"
      ],
      "text/plain": [
       "   Unnamed: 0  index                 url  @_symbol  ip_as_url  \\\n",
       "0           0      0          google.com         0          0   \n",
       "1           1      1       microsoft.com         0          0   \n",
       "2           2      2      www.google.com         0          0   \n",
       "3           3      3  data.microsoft.com         0          0   \n",
       "4           4      4   windowsupdate.com         0          0   \n",
       "\n",
       "   hexadecimal_character  url_length  multiple_//  domain_name_check  \\\n",
       "0                      0           0            0                  0   \n",
       "1                      0           0            0                  0   \n",
       "2                      0           0            0                  0   \n",
       "3                      0           0            0                  0   \n",
       "4                      0           0            0                  0   \n",
       "\n",
       "   domain_name_in_path  server_form_check  abnormal_url_shortening  \\\n",
       "0                    0                  0                        0   \n",
       "1                    0                  0                        0   \n",
       "2                    0                  0                        0   \n",
       "3                    0                  0                        0   \n",
       "4                    0                  0                        0   \n",
       "\n",
       "   downloadable_malicious_code  abnormal_cookie_domain  age_of_domain  \\\n",
       "0                            0                       0              0   \n",
       "1                            0                       0              0   \n",
       "2                            0                       0              0   \n",
       "3                            0                       0              0   \n",
       "4                            0                       0              0   \n",
       "\n",
       "   ssl_certificate  port_behaviour  blacklist_domain  is_phish  \n",
       "0                0               0                 0         0  \n",
       "1                0               0                 0         0  \n",
       "2                0               0                 0         0  \n",
       "3                0               0                 0         0  \n",
       "4                0               0                 0         0  "
      ]
     },
     "execution_count": 3,
     "metadata": {},
     "output_type": "execute_result"
    }
   ],
   "source": [
    "df.head()"
   ]
  },
  {
   "cell_type": "code",
   "execution_count": 4,
   "metadata": {},
   "outputs": [
    {
     "name": "stdout",
     "output_type": "stream",
     "text": [
      "      @_symbol  ip_as_url  hexadecimal_character  url_length  multiple_//  \\\n",
      "0            0          0                      0           0            0   \n",
      "1            0          0                      0           0            0   \n",
      "2            0          0                      0           0            0   \n",
      "3            0          0                      0           0            0   \n",
      "4            0          0                      0           0            0   \n",
      "...        ...        ...                    ...         ...          ...   \n",
      "4915         0          0                      0           0            0   \n",
      "4916         0          0                      0           0            0   \n",
      "4917         0          0                      0           1            0   \n",
      "4918         0          0                      0           0            0   \n",
      "4919         0          0                      0           1            0   \n",
      "\n",
      "      domain_name_check  domain_name_in_path  server_form_check  \\\n",
      "0                     0                    0                  0   \n",
      "1                     0                    0                  0   \n",
      "2                     0                    0                  0   \n",
      "3                     0                    0                  0   \n",
      "4                     0                    0                  0   \n",
      "...                 ...                  ...                ...   \n",
      "4915                  0                    0                  0   \n",
      "4916                  0                    0                  0   \n",
      "4917                  0                    0                  0   \n",
      "4918                  0                    0                  0   \n",
      "4919                  0                    0                  0   \n",
      "\n",
      "      abnormal_url_shortening  downloadable_malicious_code  \\\n",
      "0                           0                            0   \n",
      "1                           0                            0   \n",
      "2                           0                            0   \n",
      "3                           0                            0   \n",
      "4                           0                            0   \n",
      "...                       ...                          ...   \n",
      "4915                        0                            0   \n",
      "4916                        0                            0   \n",
      "4917                        0                            0   \n",
      "4918                        0                            0   \n",
      "4919                        0                            0   \n",
      "\n",
      "      abnormal_cookie_domain  age_of_domain  ssl_certificate  port_behaviour  \\\n",
      "0                          0              0                0               0   \n",
      "1                          0              0                0               0   \n",
      "2                          0              0                0               0   \n",
      "3                          0              0                0               0   \n",
      "4                          0              0                0               0   \n",
      "...                      ...            ...              ...             ...   \n",
      "4915                       0              1                0               0   \n",
      "4916                       0              1                0               0   \n",
      "4917                       0              0                0               0   \n",
      "4918                       0              1                0               0   \n",
      "4919                       0              0                0               0   \n",
      "\n",
      "      blacklist_domain  is_phish  \n",
      "0                    0         0  \n",
      "1                    0         0  \n",
      "2                    0         0  \n",
      "3                    0         0  \n",
      "4                    0         0  \n",
      "...                ...       ...  \n",
      "4915                 1         1  \n",
      "4916                 1         1  \n",
      "4917                 0         1  \n",
      "4918                 1         1  \n",
      "4919                 0         1  \n",
      "\n",
      "[4920 rows x 16 columns]\n"
     ]
    }
   ],
   "source": [
    "df2 = df[df.columns[3:]]\n",
    "print(df2)"
   ]
  },
  {
   "cell_type": "code",
   "execution_count": 5,
   "metadata": {},
   "outputs": [],
   "source": [
    "X = df2.iloc[:, 0:-1].values\n",
    "y = df2.iloc[:, -1]"
   ]
  },
  {
   "cell_type": "code",
   "execution_count": 6,
   "metadata": {},
   "outputs": [
    {
     "name": "stdout",
     "output_type": "stream",
     "text": [
      "[[0 0 0 ... 0 0 0]\n",
      " [0 0 0 ... 0 0 0]\n",
      " [0 0 0 ... 0 0 0]\n",
      " ...\n",
      " [0 0 0 ... 0 0 0]\n",
      " [0 0 0 ... 0 0 1]\n",
      " [0 0 0 ... 0 0 0]]\n"
     ]
    }
   ],
   "source": [
    "print(X)"
   ]
  },
  {
   "cell_type": "code",
   "execution_count": 7,
   "metadata": {},
   "outputs": [
    {
     "name": "stdout",
     "output_type": "stream",
     "text": [
      "0       0\n",
      "1       0\n",
      "2       0\n",
      "3       0\n",
      "4       0\n",
      "       ..\n",
      "4915    1\n",
      "4916    1\n",
      "4917    1\n",
      "4918    1\n",
      "4919    1\n",
      "Name: is_phish, Length: 4920, dtype: int64\n"
     ]
    }
   ],
   "source": [
    "print(y)"
   ]
  },
  {
   "cell_type": "code",
   "execution_count": 8,
   "metadata": {},
   "outputs": [
    {
     "name": "stderr",
     "output_type": "stream",
     "text": [
      "/opt/conda/lib/python3.8/site-packages/seaborn/_decorators.py:36: FutureWarning: Pass the following variable as a keyword arg: x. From version 0.12, the only valid positional argument will be `data`, and passing other arguments without an explicit keyword will result in an error or misinterpretation.\n",
      "  warnings.warn(\n"
     ]
    },
    {
     "data": {
      "text/plain": [
       "<AxesSubplot:xlabel='is_phish', ylabel='count'>"
      ]
     },
     "execution_count": 8,
     "metadata": {},
     "output_type": "execute_result"
    },
    {
     "data": {
      "image/png": "[encoded data removed]",
      "text/plain": [
       "<Figure size 432x288 with 1 Axes>"
      ]
     },
     "metadata": {
      "needs_background": "light"
     },
     "output_type": "display_data"
    }
   ],
   "source": [
    "sns.countplot(df['is_phish'])"
   ]
  },
  {
   "cell_type": "code",
   "execution_count": 9,
   "metadata": {},
   "outputs": [],
   "source": [
    "X_train, X_test, y_train, y_test = train_test_split(X, y, test_size=0.30, random_state=42)"
   ]
  },
  {
   "cell_type": "code",
   "execution_count": 10,
   "metadata": {},
   "outputs": [
    {
     "name": "stdout",
     "output_type": "stream",
     "text": [
      "--- 0.00033283233642578125 seconds ---\n"
     ]
    },
    {
     "data": {
      "text/plain": [
       "0.9092140921409214"
      ]
     },
     "execution_count": 10,
     "metadata": {},
     "output_type": "execute_result"
    }
   ],
   "source": [
    "from sklearn.linear_model import LogisticRegression\n",
    "from sklearn.metrics import accuracy_score\n",
    "\n",
    "lr=LogisticRegression()\n",
    "lr.fit(X_train,y_train)\n",
    "start_time = time.time()\n",
    "pred=lr.predict(X_test)\n",
    "print(\"--- %s seconds ---\" % (time.time() - start_time))\n",
    "accuracy_score(pred,y_test)"
   ]
  },
  {
   "cell_type": "code",
   "execution_count": 40,
   "metadata": {},
   "outputs": [
    {
     "name": "stdout",
     "output_type": "stream",
     "text": [
      "[0.92276423 0.93089431 0.89634146 0.90447154 0.87906504]\n",
      "[0.92267191 0.93087603 0.89561658 0.90428016 0.87903693]\n"
     ]
    }
   ],
   "source": [
    "from sklearn import svm\n",
    "from sklearn.model_selection import cross_val_score\n",
    "from sklearn import metrics\n",
    "clf = svm.SVC(kernel='linear', C=1, random_state=42)\n",
    "scores = cross_val_score(clf, X, y, cv=5)\n",
    "print(scores)\n",
    "scores = cross_val_score(clf, X, y, cv=5, scoring='f1_macro')\n",
    "print(scores)"
   ]
  },
  {
   "cell_type": "code",
   "execution_count": 41,
   "metadata": {},
   "outputs": [
    {
     "data": {
      "text/plain": [
       "array([0.91598916, 0.90311653, 0.899729  , 0.91395664, 0.90921409])"
      ]
     },
     "execution_count": 41,
     "metadata": {},
     "output_type": "execute_result"
    }
   ],
   "source": [
    "from sklearn.model_selection import ShuffleSplit\n",
    "n_samples = X.shape[0]\n",
    "cv = ShuffleSplit(n_splits=5, test_size=0.3, random_state=0)\n",
    "cross_val_score(clf, X, y, cv=cv)"
   ]
  },
  {
   "cell_type": "code",
   "execution_count": 11,
   "metadata": {},
   "outputs": [
    {
     "name": "stdout",
     "output_type": "stream",
     "text": [
      "--- 0.14754366874694824 seconds ---\n"
     ]
    }
   ],
   "source": [
    "from sklearn.neighbors import KNeighborsClassifier\n",
    "knn=KNeighborsClassifier(n_neighbors=3)\n",
    "\n",
    "model= knn.fit(X_train,y_train)\n",
    "\n",
    "start_time = time.time()\n",
    "knn_predict=model.predict(X_test)\n",
    "print(\"--- %s seconds ---\" % (time.time() - start_time))"
   ]
  },
  {
   "cell_type": "code",
   "execution_count": 12,
   "metadata": {},
   "outputs": [
    {
     "data": {
      "text/plain": [
       "0.9098915989159891"
      ]
     },
     "execution_count": 12,
     "metadata": {},
     "output_type": "execute_result"
    }
   ],
   "source": [
    "from sklearn.metrics import accuracy_score,confusion_matrix,classification_report\n",
    "\n",
    "accuracy_score(knn_predict,y_test)"
   ]
  },
  {
   "cell_type": "code",
   "execution_count": 13,
   "metadata": {},
   "outputs": [
    {
     "data": {
      "image/png": "[encoded data removed]",
      "text/plain": [
       "<Figure size 720x360 with 1 Axes>"
      ]
     },
     "metadata": {
      "needs_background": "light"
     },
     "output_type": "display_data"
    }
   ],
   "source": [
    "neighbors = np.arange(1, 15)\n",
    "\n",
    "train_accuracy = np.empty(len(neighbors))\n",
    "test_accuracy = np.empty(len(neighbors))\n",
    "\n",
    "# Loop over different values of k\n",
    "for i, k in enumerate(neighbors):\n",
    "    # Setup a k-NN Classifier with k neighbors: knn\n",
    "    knn = KNeighborsClassifier(n_neighbors= k )\n",
    "\n",
    "    # Fit the classifier to the training data\n",
    "    knn.fit(X_train, y_train)\n",
    "    \n",
    "    #Compute accuracy on the training set\n",
    "    train_accuracy[i] = knn.score(X_train, y_train)\n",
    "\n",
    "    #Compute accuracy on the testing set\n",
    "    test_accuracy[i] = knn.score(X_test, y_test)\n",
    "\n",
    "# Generate plot\n",
    "plt.figure(figsize=(10,5))\n",
    "plt.title('k-NN: Varying Number of Neighbors')\n",
    "plt.plot(neighbors, test_accuracy, label = 'Testing Accuracy')\n",
    "plt.plot(neighbors, train_accuracy, label = 'Training Accuracy')\n",
    "plt.legend()\n",
    "plt.xlabel('Number of Neighbors')\n",
    "plt.ylabel('Accuracy')\n",
    "plt.show()"
   ]
  },
  {
   "cell_type": "code",
   "execution_count": 14,
   "metadata": {},
   "outputs": [
    {
     "name": "stdout",
     "output_type": "stream",
     "text": [
      "--- 0.000606536865234375 seconds ---\n"
     ]
    },
    {
     "data": {
      "text/plain": [
       "0.8861788617886179"
      ]
     },
     "execution_count": 14,
     "metadata": {},
     "output_type": "execute_result"
    }
   ],
   "source": [
    "from sklearn.naive_bayes import BernoulliNB\n",
    "clf = BernoulliNB()\n",
    "clf.fit(X_train, y_train)\n",
    "start_time = time.time()\n",
    "naive_predict=clf.predict(X_test)\n",
    "print(\"--- %s seconds ---\" % (time.time() - start_time))\n",
    "accuracy_score(naive_predict,y_test)"
   ]
  },
  {
   "cell_type": "code",
   "execution_count": 33,
   "metadata": {},
   "outputs": [
    {
     "name": "stdout",
     "output_type": "stream",
     "text": [
      "--- 0.02309560775756836 seconds ---\n"
     ]
    },
    {
     "data": {
      "text/plain": [
       "0.9098915989159891"
      ]
     },
     "execution_count": 33,
     "metadata": {},
     "output_type": "execute_result"
    }
   ],
   "source": [
    "from sklearn.ensemble import RandomForestClassifier\n",
    "forest_clf = RandomForestClassifier(max_depth=10, random_state=0)\n",
    "forest_clf.fit(X_train,y_train)\n",
    "start_time = time.time()\n",
    "ran_pred=forest_clf.predict(X_test)\n",
    "print(\"--- %s seconds ---\" % (time.time() - start_time))\n",
    "accuracy_score(ran_pred,y_test)"
   ]
  },
  {
   "cell_type": "code",
   "execution_count": 30,
   "metadata": {},
   "outputs": [],
   "source": [
    "filename = 'cybersecuritymodel.sav'\n",
    "pickle.dump(forest_clf, open(filename, 'wb'))"
   ]
  },
  {
   "cell_type": "code",
   "execution_count": 31,
   "metadata": {},
   "outputs": [
    {
     "name": "stdout",
     "output_type": "stream",
     "text": [
      "0.9098915989159891\n"
     ]
    }
   ],
   "source": [
    "loaded_model = pickle.load(open(filename, 'rb'))\n",
    "result = loaded_model.score(X_test, y_test)\n",
    "print(result)"
   ]
  },
  {
   "cell_type": "code",
   "execution_count": 16,
   "metadata": {},
   "outputs": [
    {
     "name": "stdout",
     "output_type": "stream",
     "text": [
      "{'n_estimators': [200, 400, 600, 800, 1000, 1200, 1400, 1600, 1800, 2000], 'max_features': ['auto', 'sqrt'], 'max_depth': [10, 20, 30, 40, 50, 60, 70, 80, 90, 100, 110, None], 'min_samples_split': [2, 5, 10], 'min_samples_leaf': [1, 2, 4], 'bootstrap': [True, False]}\n"
     ]
    },
    {
     "data": {
      "text/plain": [
       "{'bootstrap': [True, False],\n",
       " 'max_depth': [10, 20, 30, 40, 50, 60, 70, 80, 90, 100, None],\n",
       " 'max_features': ['auto', 'sqrt'],\n",
       " 'min_samples_leaf': [1, 2, 4],\n",
       " 'min_samples_split': [2, 5, 10],\n",
       " 'n_estimators': [200, 400, 600, 800, 1000, 1200, 1400, 1600, 1800, 2000]}"
      ]
     },
     "execution_count": 16,
     "metadata": {},
     "output_type": "execute_result"
    }
   ],
   "source": [
    "from sklearn.model_selection import RandomizedSearchCV\n",
    "# Number of trees in random forest\n",
    "n_estimators = [int(x) for x in np.linspace(start = 200, stop = 2000, num = 10)]\n",
    "# Number of features to consider at every split\n",
    "max_features = ['auto', 'sqrt']\n",
    "# Maximum number of levels in tree\n",
    "max_depth = [int(x) for x in np.linspace(10, 110, num = 11)]\n",
    "max_depth.append(None)\n",
    "# Minimum number of samples required to split a node\n",
    "min_samples_split = [2, 5, 10]\n",
    "# Minimum number of samples required at each leaf node\n",
    "min_samples_leaf = [1, 2, 4]\n",
    "# Method of selecting samples for training each tree\n",
    "bootstrap = [True, False]\n",
    "# Create the random grid\n",
    "random_grid = {'n_estimators': n_estimators,\n",
    "               'max_features': max_features,\n",
    "               'max_depth': max_depth,\n",
    "               'min_samples_split': min_samples_split,\n",
    "               'min_samples_leaf': min_samples_leaf,\n",
    "               'bootstrap': bootstrap}\n",
    "print(random_grid)\n",
    "{'bootstrap': [True, False],\n",
    " 'max_depth': [10, 20, 30, 40, 50, 60, 70, 80, 90, 100, None],\n",
    " 'max_features': ['auto', 'sqrt'],\n",
    " 'min_samples_leaf': [1, 2, 4],\n",
    " 'min_samples_split': [2, 5, 10],\n",
    " 'n_estimators': [200, 400, 600, 800, 1000, 1200, 1400, 1600, 1800, 2000]}"
   ]
  },
  {
   "cell_type": "code",
   "execution_count": 17,
   "metadata": {},
   "outputs": [
    {
     "name": "stdout",
     "output_type": "stream",
     "text": [
      "Fitting 3 folds for each of 100 candidates, totalling 300 fits\n"
     ]
    },
    {
     "data": {
      "text/plain": [
       "RandomizedSearchCV(cv=3, estimator=RandomForestClassifier(), n_iter=100,\n",
       "                   n_jobs=-1,\n",
       "                   param_distributions={'bootstrap': [True, False],\n",
       "                                        'max_depth': [10, 20, 30, 40, 50, 60,\n",
       "                                                      70, 80, 90, 100, 110,\n",
       "                                                      None],\n",
       "                                        'max_features': ['auto', 'sqrt'],\n",
       "                                        'min_samples_leaf': [1, 2, 4],\n",
       "                                        'min_samples_split': [2, 5, 10],\n",
       "                                        'n_estimators': [200, 400, 600, 800,\n",
       "                                                         1000, 1200, 1400, 1600,\n",
       "                                                         1800, 2000]},\n",
       "                   random_state=42, verbose=2)"
      ]
     },
     "execution_count": 17,
     "metadata": {},
     "output_type": "execute_result"
    }
   ],
   "source": [
    "# Use the random grid to search for best hyperparameters\n",
    "# First create the base model to tune\n",
    "rf = RandomForestClassifier()\n",
    "# Random search of parameters, using 3 fold cross validation, \n",
    "# search across 100 different combinations, and use all available cores\n",
    "rf_random = RandomizedSearchCV(estimator = rf, param_distributions = random_grid, n_iter = 100, cv = 3, verbose=2, random_state=42, n_jobs = -1)\n",
    "# Fit the random search model\n",
    "rf_random.fit(X_train,y_train)"
   ]
  },
  {
   "cell_type": "code",
   "execution_count": 18,
   "metadata": {},
   "outputs": [
    {
     "data": {
      "text/plain": [
       "{'n_estimators': 400,\n",
       " 'min_samples_split': 5,\n",
       " 'min_samples_leaf': 1,\n",
       " 'max_features': 'sqrt',\n",
       " 'max_depth': 30,\n",
       " 'bootstrap': True}"
      ]
     },
     "execution_count": 18,
     "metadata": {},
     "output_type": "execute_result"
    }
   ],
   "source": [
    "rf_random.best_params_"
   ]
  },
  {
   "cell_type": "code",
   "execution_count": 19,
   "metadata": {},
   "outputs": [
    {
     "name": "stdout",
     "output_type": "stream",
     "text": [
      "--- 0.08809566497802734 seconds ---\n"
     ]
    },
    {
     "data": {
      "text/plain": [
       "0.9098915989159891"
      ]
     },
     "execution_count": 19,
     "metadata": {},
     "output_type": "execute_result"
    }
   ],
   "source": [
    "forest_clf = RandomForestClassifier(bootstrap=True,max_depth=30,max_features='sqrt',min_samples_leaf=1,min_samples_split=5,n_estimators=400)\n",
    "forest_clf.fit(X_train,y_train)\n",
    "start_time = time.time()\n",
    "ran_pred=forest_clf.predict(X_test)\n",
    "print(\"--- %s seconds ---\" % (time.time() - start_time))\n",
    "accuracy_score(ran_pred,y_test)"
   ]
  },
  {
   "cell_type": "code",
   "execution_count": 20,
   "metadata": {},
   "outputs": [
    {
     "name": "stdout",
     "output_type": "stream",
     "text": [
      "Fitting 5 folds for each of 25 candidates, totalling 125 fits\n",
      "[CV 1/5] END .....................C=0.1, gamma=1, kernel=rbf; total time=   0.2s\n",
      "[CV 2/5] END .....................C=0.1, gamma=1, kernel=rbf; total time=   0.2s\n",
      "[CV 3/5] END .....................C=0.1, gamma=1, kernel=rbf; total time=   0.2s\n",
      "[CV 4/5] END .....................C=0.1, gamma=1, kernel=rbf; total time=   0.2s\n",
      "[CV 5/5] END .....................C=0.1, gamma=1, kernel=rbf; total time=   0.2s\n",
      "[CV 1/5] END ...................C=0.1, gamma=0.1, kernel=rbf; total time=   0.2s\n",
      "[CV 2/5] END ...................C=0.1, gamma=0.1, kernel=rbf; total time=   0.2s\n",
      "[CV 3/5] END ...................C=0.1, gamma=0.1, kernel=rbf; total time=   0.2s\n",
      "[CV 4/5] END ...................C=0.1, gamma=0.1, kernel=rbf; total time=   0.2s\n",
      "[CV 5/5] END ...................C=0.1, gamma=0.1, kernel=rbf; total time=   0.2s\n",
      "[CV 1/5] END ..................C=0.1, gamma=0.01, kernel=rbf; total time=   0.5s\n",
      "[CV 2/5] END ..................C=0.1, gamma=0.01, kernel=rbf; total time=   0.5s\n",
      "[CV 3/5] END ..................C=0.1, gamma=0.01, kernel=rbf; total time=   0.5s\n",
      "[CV 4/5] END ..................C=0.1, gamma=0.01, kernel=rbf; total time=   0.5s\n",
      "[CV 5/5] END ..................C=0.1, gamma=0.01, kernel=rbf; total time=   0.5s\n",
      "[CV 1/5] END .................C=0.1, gamma=0.001, kernel=rbf; total time=   0.7s\n",
      "[CV 2/5] END .................C=0.1, gamma=0.001, kernel=rbf; total time=   0.7s\n",
      "[CV 3/5] END .................C=0.1, gamma=0.001, kernel=rbf; total time=   0.7s\n",
      "[CV 4/5] END .................C=0.1, gamma=0.001, kernel=rbf; total time=   0.7s\n",
      "[CV 5/5] END .................C=0.1, gamma=0.001, kernel=rbf; total time=   0.7s\n",
      "[CV 1/5] END ................C=0.1, gamma=0.0001, kernel=rbf; total time=   0.7s\n",
      "[CV 2/5] END ................C=0.1, gamma=0.0001, kernel=rbf; total time=   0.7s\n",
      "[CV 3/5] END ................C=0.1, gamma=0.0001, kernel=rbf; total time=   0.7s\n",
      "[CV 4/5] END ................C=0.1, gamma=0.0001, kernel=rbf; total time=   0.7s\n",
      "[CV 5/5] END ................C=0.1, gamma=0.0001, kernel=rbf; total time=   0.7s\n",
      "[CV 1/5] END .......................C=1, gamma=1, kernel=rbf; total time=   0.1s\n",
      "[CV 2/5] END .......................C=1, gamma=1, kernel=rbf; total time=   0.1s\n",
      "[CV 3/5] END .......................C=1, gamma=1, kernel=rbf; total time=   0.1s\n",
      "[CV 4/5] END .......................C=1, gamma=1, kernel=rbf; total time=   0.1s\n",
      "[CV 5/5] END .......................C=1, gamma=1, kernel=rbf; total time=   0.1s\n",
      "[CV 1/5] END .....................C=1, gamma=0.1, kernel=rbf; total time=   0.2s\n",
      "[CV 2/5] END .....................C=1, gamma=0.1, kernel=rbf; total time=   0.1s\n",
      "[CV 3/5] END .....................C=1, gamma=0.1, kernel=rbf; total time=   0.2s\n",
      "[CV 4/5] END .....................C=1, gamma=0.1, kernel=rbf; total time=   0.1s\n",
      "[CV 5/5] END .....................C=1, gamma=0.1, kernel=rbf; total time=   0.2s\n",
      "[CV 1/5] END ....................C=1, gamma=0.01, kernel=rbf; total time=   0.2s\n",
      "[CV 2/5] END ....................C=1, gamma=0.01, kernel=rbf; total time=   0.2s\n",
      "[CV 3/5] END ....................C=1, gamma=0.01, kernel=rbf; total time=   0.2s\n",
      "[CV 4/5] END ....................C=1, gamma=0.01, kernel=rbf; total time=   0.2s\n",
      "[CV 5/5] END ....................C=1, gamma=0.01, kernel=rbf; total time=   0.2s\n",
      "[CV 1/5] END ...................C=1, gamma=0.001, kernel=rbf; total time=   0.5s\n",
      "[CV 2/5] END ...................C=1, gamma=0.001, kernel=rbf; total time=   0.5s\n",
      "[CV 3/5] END ...................C=1, gamma=0.001, kernel=rbf; total time=   0.5s\n",
      "[CV 4/5] END ...................C=1, gamma=0.001, kernel=rbf; total time=   0.5s\n",
      "[CV 5/5] END ...................C=1, gamma=0.001, kernel=rbf; total time=   0.5s\n",
      "[CV 1/5] END ..................C=1, gamma=0.0001, kernel=rbf; total time=   0.7s\n",
      "[CV 2/5] END ..................C=1, gamma=0.0001, kernel=rbf; total time=   0.7s\n",
      "[CV 3/5] END ..................C=1, gamma=0.0001, kernel=rbf; total time=   0.7s\n",
      "[CV 4/5] END ..................C=1, gamma=0.0001, kernel=rbf; total time=   0.7s\n",
      "[CV 5/5] END ..................C=1, gamma=0.0001, kernel=rbf; total time=   0.7s\n",
      "[CV 1/5] END ......................C=10, gamma=1, kernel=rbf; total time=   0.1s\n",
      "[CV 2/5] END ......................C=10, gamma=1, kernel=rbf; total time=   0.1s\n",
      "[CV 3/5] END ......................C=10, gamma=1, kernel=rbf; total time=   0.1s\n",
      "[CV 4/5] END ......................C=10, gamma=1, kernel=rbf; total time=   0.1s\n",
      "[CV 5/5] END ......................C=10, gamma=1, kernel=rbf; total time=   0.1s\n",
      "[CV 1/5] END ....................C=10, gamma=0.1, kernel=rbf; total time=   0.1s\n",
      "[CV 2/5] END ....................C=10, gamma=0.1, kernel=rbf; total time=   0.1s\n",
      "[CV 3/5] END ....................C=10, gamma=0.1, kernel=rbf; total time=   0.1s\n",
      "[CV 4/5] END ....................C=10, gamma=0.1, kernel=rbf; total time=   0.1s\n",
      "[CV 5/5] END ....................C=10, gamma=0.1, kernel=rbf; total time=   0.1s\n",
      "[CV 1/5] END ...................C=10, gamma=0.01, kernel=rbf; total time=   0.2s\n",
      "[CV 2/5] END ...................C=10, gamma=0.01, kernel=rbf; total time=   0.2s\n",
      "[CV 3/5] END ...................C=10, gamma=0.01, kernel=rbf; total time=   0.2s\n",
      "[CV 4/5] END ...................C=10, gamma=0.01, kernel=rbf; total time=   0.1s\n",
      "[CV 5/5] END ...................C=10, gamma=0.01, kernel=rbf; total time=   0.2s\n",
      "[CV 1/5] END ..................C=10, gamma=0.001, kernel=rbf; total time=   0.2s\n",
      "[CV 2/5] END ..................C=10, gamma=0.001, kernel=rbf; total time=   0.2s\n",
      "[CV 3/5] END ..................C=10, gamma=0.001, kernel=rbf; total time=   0.2s\n",
      "[CV 4/5] END ..................C=10, gamma=0.001, kernel=rbf; total time=   0.2s\n",
      "[CV 5/5] END ..................C=10, gamma=0.001, kernel=rbf; total time=   0.2s\n",
      "[CV 1/5] END .................C=10, gamma=0.0001, kernel=rbf; total time=   0.5s\n",
      "[CV 2/5] END .................C=10, gamma=0.0001, kernel=rbf; total time=   0.5s\n",
      "[CV 3/5] END .................C=10, gamma=0.0001, kernel=rbf; total time=   0.5s\n",
      "[CV 4/5] END .................C=10, gamma=0.0001, kernel=rbf; total time=   0.5s\n",
      "[CV 5/5] END .................C=10, gamma=0.0001, kernel=rbf; total time=   0.5s\n",
      "[CV 1/5] END .....................C=100, gamma=1, kernel=rbf; total time=   0.1s\n",
      "[CV 2/5] END .....................C=100, gamma=1, kernel=rbf; total time=   0.1s\n",
      "[CV 3/5] END .....................C=100, gamma=1, kernel=rbf; total time=   0.1s\n",
      "[CV 4/5] END .....................C=100, gamma=1, kernel=rbf; total time=   0.1s\n",
      "[CV 5/5] END .....................C=100, gamma=1, kernel=rbf; total time=   0.1s\n",
      "[CV 1/5] END ...................C=100, gamma=0.1, kernel=rbf; total time=   0.1s\n",
      "[CV 2/5] END ...................C=100, gamma=0.1, kernel=rbf; total time=   0.1s\n",
      "[CV 3/5] END ...................C=100, gamma=0.1, kernel=rbf; total time=   0.1s\n",
      "[CV 4/5] END ...................C=100, gamma=0.1, kernel=rbf; total time=   0.1s\n",
      "[CV 5/5] END ...................C=100, gamma=0.1, kernel=rbf; total time=   0.1s\n",
      "[CV 1/5] END ..................C=100, gamma=0.01, kernel=rbf; total time=   0.2s\n",
      "[CV 2/5] END ..................C=100, gamma=0.01, kernel=rbf; total time=   0.1s\n",
      "[CV 3/5] END ..................C=100, gamma=0.01, kernel=rbf; total time=   0.1s\n",
      "[CV 4/5] END ..................C=100, gamma=0.01, kernel=rbf; total time=   0.1s\n",
      "[CV 5/5] END ..................C=100, gamma=0.01, kernel=rbf; total time=   0.2s\n",
      "[CV 1/5] END .................C=100, gamma=0.001, kernel=rbf; total time=   0.2s\n",
      "[CV 2/5] END .................C=100, gamma=0.001, kernel=rbf; total time=   0.2s\n",
      "[CV 3/5] END .................C=100, gamma=0.001, kernel=rbf; total time=   0.2s\n",
      "[CV 4/5] END .................C=100, gamma=0.001, kernel=rbf; total time=   0.1s\n",
      "[CV 5/5] END .................C=100, gamma=0.001, kernel=rbf; total time=   0.2s\n",
      "[CV 1/5] END ................C=100, gamma=0.0001, kernel=rbf; total time=   0.2s\n",
      "[CV 2/5] END ................C=100, gamma=0.0001, kernel=rbf; total time=   0.2s\n",
      "[CV 3/5] END ................C=100, gamma=0.0001, kernel=rbf; total time=   0.2s\n",
      "[CV 4/5] END ................C=100, gamma=0.0001, kernel=rbf; total time=   0.2s\n",
      "[CV 5/5] END ................C=100, gamma=0.0001, kernel=rbf; total time=   0.2s\n",
      "[CV 1/5] END ....................C=1000, gamma=1, kernel=rbf; total time=   0.1s\n"
     ]
    },
    {
     "name": "stdout",
     "output_type": "stream",
     "text": [
      "[CV 2/5] END ....................C=1000, gamma=1, kernel=rbf; total time=   0.1s\n",
      "[CV 3/5] END ....................C=1000, gamma=1, kernel=rbf; total time=   0.1s\n",
      "[CV 4/5] END ....................C=1000, gamma=1, kernel=rbf; total time=   0.1s\n",
      "[CV 5/5] END ....................C=1000, gamma=1, kernel=rbf; total time=   0.1s\n",
      "[CV 1/5] END ..................C=1000, gamma=0.1, kernel=rbf; total time=   0.1s\n",
      "[CV 2/5] END ..................C=1000, gamma=0.1, kernel=rbf; total time=   0.1s\n",
      "[CV 3/5] END ..................C=1000, gamma=0.1, kernel=rbf; total time=   0.1s\n",
      "[CV 4/5] END ..................C=1000, gamma=0.1, kernel=rbf; total time=   0.1s\n",
      "[CV 5/5] END ..................C=1000, gamma=0.1, kernel=rbf; total time=   0.1s\n",
      "[CV 1/5] END .................C=1000, gamma=0.01, kernel=rbf; total time=   0.1s\n",
      "[CV 2/5] END .................C=1000, gamma=0.01, kernel=rbf; total time=   0.1s\n",
      "[CV 3/5] END .................C=1000, gamma=0.01, kernel=rbf; total time=   0.1s\n",
      "[CV 4/5] END .................C=1000, gamma=0.01, kernel=rbf; total time=   0.1s\n",
      "[CV 5/5] END .................C=1000, gamma=0.01, kernel=rbf; total time=   0.1s\n",
      "[CV 1/5] END ................C=1000, gamma=0.001, kernel=rbf; total time=   0.2s\n",
      "[CV 2/5] END ................C=1000, gamma=0.001, kernel=rbf; total time=   0.2s\n",
      "[CV 3/5] END ................C=1000, gamma=0.001, kernel=rbf; total time=   0.2s\n",
      "[CV 4/5] END ................C=1000, gamma=0.001, kernel=rbf; total time=   0.2s\n",
      "[CV 5/5] END ................C=1000, gamma=0.001, kernel=rbf; total time=   0.2s\n",
      "[CV 1/5] END ...............C=1000, gamma=0.0001, kernel=rbf; total time=   0.2s\n",
      "[CV 2/5] END ...............C=1000, gamma=0.0001, kernel=rbf; total time=   0.1s\n",
      "[CV 3/5] END ...............C=1000, gamma=0.0001, kernel=rbf; total time=   0.1s\n",
      "[CV 4/5] END ...............C=1000, gamma=0.0001, kernel=rbf; total time=   0.1s\n",
      "[CV 5/5] END ...............C=1000, gamma=0.0001, kernel=rbf; total time=   0.2s\n"
     ]
    },
    {
     "data": {
      "text/plain": [
       "GridSearchCV(estimator=SVC(),\n",
       "             param_grid={'C': [0.1, 1, 10, 100, 1000],\n",
       "                         'gamma': [1, 0.1, 0.01, 0.001, 0.0001],\n",
       "                         'kernel': ['rbf']},\n",
       "             verbose=3)"
      ]
     },
     "execution_count": 20,
     "metadata": {},
     "output_type": "execute_result"
    }
   ],
   "source": [
    "from sklearn.model_selection import GridSearchCV \n",
    "from sklearn.svm import SVC\n",
    "param_grid = {'C': [0.1, 1, 10, 100, 1000],  \n",
    "              'gamma': [1, 0.1, 0.01, 0.001, 0.0001], \n",
    "              'kernel': ['rbf']}  \n",
    "  \n",
    "grid = GridSearchCV(SVC(), param_grid, refit = True, verbose = 3) \n",
    "  \n",
    "# fitting the model for grid search \n",
    "grid.fit(X_train,y_train) "
   ]
  },
  {
   "cell_type": "code",
   "execution_count": 21,
   "metadata": {},
   "outputs": [
    {
     "data": {
      "text/plain": [
       "{'C': 1, 'gamma': 1, 'kernel': 'rbf'}"
      ]
     },
     "execution_count": 21,
     "metadata": {},
     "output_type": "execute_result"
    }
   ],
   "source": [
    "grid.best_params_"
   ]
  },
  {
   "cell_type": "code",
   "execution_count": 22,
   "metadata": {},
   "outputs": [
    {
     "name": "stdout",
     "output_type": "stream",
     "text": [
      "--- 0.07190608978271484 seconds ---\n"
     ]
    },
    {
     "data": {
      "text/plain": [
       "0.9092140921409214"
      ]
     },
     "execution_count": 22,
     "metadata": {},
     "output_type": "execute_result"
    }
   ],
   "source": [
    "from sklearn.svm import SVC\n",
    "svm_clf =SVC(C=1, gamma=1, kernel='rbf')\n",
    "svm_clf.fit(X_train,y_train)\n",
    "start_time = time.time()\n",
    "pred=svm_clf.predict(X_test)\n",
    "print(\"--- %s seconds ---\" % (time.time() - start_time))\n",
    "accuracy_score(pred,y_test)"
   ]
  },
  {
   "cell_type": "code",
   "execution_count": 23,
   "metadata": {},
   "outputs": [],
   "source": [
    "# #Dependencies\n",
    "import keras\n",
    "from keras.models import Sequential\n",
    "from keras.layers import Dense\n",
    "# Neural network\n",
    "model = Sequential()\n",
    "model.add(Dense(16, input_dim=15, activation='relu'))\n",
    "model.add(Dense(12, activation='relu'))\n",
    "model.add(Dense(1, activation='softmax'))"
   ]
  },
  {
   "cell_type": "code",
   "execution_count": 24,
   "metadata": {},
   "outputs": [],
   "source": [
    "model.compile(loss='categorical_crossentropy', optimizer='adam', metrics=['accuracy'])"
   ]
  },
  {
   "cell_type": "code",
   "execution_count": 25,
   "metadata": {},
   "outputs": [
    {
     "name": "stdout",
     "output_type": "stream",
     "text": [
      "Epoch 1/10\n",
      "3444/3444 [==============================] - 2s 547us/step - loss: 0.0000e+00 - accuracy: 0.4988\n",
      "Epoch 2/10\n",
      "3444/3444 [==============================] - 2s 536us/step - loss: 0.0000e+00 - accuracy: 0.5106\n",
      "Epoch 3/10\n",
      "3444/3444 [==============================] - 2s 540us/step - loss: 0.0000e+00 - accuracy: 0.5043\n",
      "Epoch 4/10\n",
      "3444/3444 [==============================] - 2s 519us/step - loss: 0.0000e+00 - accuracy: 0.5055\n",
      "Epoch 5/10\n",
      "3444/3444 [==============================] - 2s 493us/step - loss: 0.0000e+00 - accuracy: 0.4926\n",
      "Epoch 6/10\n",
      "3444/3444 [==============================] - 2s 492us/step - loss: 0.0000e+00 - accuracy: 0.5003\n",
      "Epoch 7/10\n",
      "3444/3444 [==============================] - 2s 511us/step - loss: 0.0000e+00 - accuracy: 0.4913\n",
      "Epoch 8/10\n",
      "3444/3444 [==============================] - 2s 529us/step - loss: 0.0000e+00 - accuracy: 0.5029\n",
      "Epoch 9/10\n",
      "3444/3444 [==============================] - 2s 530us/step - loss: 0.0000e+00 - accuracy: 0.4877\n",
      "Epoch 10/10\n",
      "3444/3444 [==============================] - 2s 526us/step - loss: 0.0000e+00 - accuracy: 0.4993\n"
     ]
    }
   ],
   "source": [
    "history = model.fit(X_train,y_train,batch_size=1,epochs=10)"
   ]
  },
  {
   "cell_type": "code",
   "execution_count": 26,
   "metadata": {},
   "outputs": [
    {
     "name": "stdout",
     "output_type": "stream",
     "text": [
      "--- 0.09763216972351074 seconds ---\n"
     ]
    }
   ],
   "source": [
    "start_time = time.time()\n",
    "y_pred = model.predict(X_test)\n",
    "print(\"--- %s seconds ---\" % (time.time() - start_time))"
   ]
  },
  {
   "cell_type": "code",
   "execution_count": 27,
   "metadata": {},
   "outputs": [
    {
     "data": {
      "text/plain": [
       "0.47289972899729"
      ]
     },
     "execution_count": 27,
     "metadata": {},
     "output_type": "execute_result"
    }
   ],
   "source": [
    "accuracy_score(y_pred,y_test)"
   ]
  },
  {
   "cell_type": "code",
   "execution_count": 32,
   "metadata": {},
   "outputs": [],
   "source": [
    "p = [[0, 0, 0, 0, 0, 0, 0, 0, 0, 0, 0, 1, 0, 0, 0]]"
   ]
  },
  {
   "cell_type": "code",
   "execution_count": 34,
   "metadata": {},
   "outputs": [],
   "source": [
    "ran_pred=forest_clf.predict(p)"
   ]
  },
  {
   "cell_type": "code",
   "execution_count": 35,
   "metadata": {},
   "outputs": [
    {
     "data": {
      "text/plain": [
       "array([1])"
      ]
     },
     "execution_count": 35,
     "metadata": {},
     "output_type": "execute_result"
    }
   ],
   "source": [
    "ran_pred"
   ]
  },
  {
   "cell_type": "code",
   "execution_count": null,
   "metadata": {},
   "outputs": [],
   "source": []
  }
 ],
 "metadata": {
  "kernelspec": {
   "display_name": "Python 3",
   "language": "python",
   "name": "python3"
  },
  "language_info": {
   "codemirror_mode": {
    "name": "ipython",
    "version": 3
   },
   "file_extension": ".py",
   "mimetype": "text/x-python",
   "name": "python",
   "nbconvert_exporter": "python",
   "pygments_lexer": "ipython3",
   "version": "3.8.5"
  }
 },
 "nbformat": 4,
 "nbformat_minor": 5
}
